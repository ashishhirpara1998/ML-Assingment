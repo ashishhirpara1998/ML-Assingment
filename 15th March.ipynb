{
 "cells": [
  {
   "cell_type": "markdown",
   "id": "84221006-c7b0-4662-a1cf-673419e5133a",
   "metadata": {},
   "source": [
    "## Q1: Explain the following with an example\n",
    "1. Artificial Intelligence\n",
    "2. Machine Learning\n",
    "3. Deep Learning"
   ]
  },
  {
   "cell_type": "markdown",
   "id": "4dbac635-2781-42ac-bf78-41f3543b6a86",
   "metadata": {},
   "source": [
    "1. Artificial Intelligence\n",
    "\n",
    "ans. Smart Application that can perform its own task without any human intervension"
   ]
  },
  {
   "cell_type": "markdown",
   "id": "3da5d5a0-57f3-4627-9c76-03fa61c6791e",
   "metadata": {},
   "source": [
    "2. Machine Learning\n",
    "\n",
    "It provide stattool to analyze,visualize,predictive model,forecasting"
   ]
  },
  {
   "cell_type": "markdown",
   "id": "9b54609e-449c-464d-908b-1cd2261f6a48",
   "metadata": {},
   "source": [
    "3. Deep Learning\n",
    "\n",
    "Deep learning is a machine learning technique that teaches computers to do what comes naturally to humans"
   ]
  },
  {
   "cell_type": "markdown",
   "id": "4ab27f41-7278-43ba-85d3-92c857feb165",
   "metadata": {},
   "source": [
    "## Q2: What is supervised learning? List some examples of supervised learning."
   ]
  },
  {
   "cell_type": "markdown",
   "id": "9cf8baf3-302e-4a1d-aa35-a84783db36b0",
   "metadata": {},
   "source": [
    "Supervised learning is the types of machine learning in which machines are trained using well \"labelled\" training data, and on basis of that data, machines predict the output. The labelled data means some input data is already tagged with the correct output."
   ]
  },
  {
   "cell_type": "markdown",
   "id": "6707fcd5-c059-4764-a599-3fae2212f72e",
   "metadata": {},
   "source": [
    "Supervised learning can be further divided into two types of problems\n",
    "1. Regression\n",
    "2. Classification"
   ]
  },
  {
   "cell_type": "markdown",
   "id": "73754ee1-1026-49d2-afae-642bcbc9ead3",
   "metadata": {},
   "source": [
    "## Q3: What is unsupervised learning? List some examples of unsupervised learning."
   ]
  },
  {
   "cell_type": "markdown",
   "id": "bd97257f-1510-45cc-97ad-8a64b71a46e5",
   "metadata": {},
   "source": [
    "Unsupervised learning is when it can provide a set of unlabelled data, which it is required to analyze and find patterns inside"
   ]
  },
  {
   "cell_type": "markdown",
   "id": "2aba5674-b6c6-4070-afa6-a28b84d8f67f",
   "metadata": {},
   "source": [
    "The examples are\n",
    "1. Dimension reduction\n",
    "2. Clustering"
   ]
  },
  {
   "cell_type": "markdown",
   "id": "307d8e46-6c96-44b2-aea7-baa1778acd80",
   "metadata": {},
   "source": [
    "## Q4: What is the difference between AI,ML,and DS?"
   ]
  },
  {
   "cell_type": "markdown",
   "id": "0e01e7b7-69cd-475b-823c-8d8c1d7117b9",
   "metadata": {},
   "source": [
    "The common denominator between data science, AI, and machine learning is data."
   ]
  },
  {
   "cell_type": "markdown",
   "id": "a71b1e6f-4fc9-4c59-8791-e26d2f9c6254",
   "metadata": {},
   "source": [
    "Data science focuses on managing, processing, and interpreting big data to effectively inform decision-making."
   ]
  },
  {
   "cell_type": "markdown",
   "id": "135316cc-bfc7-4d5d-9f87-e064048d7bb3",
   "metadata": {},
   "source": [
    "Machine learning leverages algorithms to analyze data, learn from it, and forecast trends."
   ]
  },
  {
   "cell_type": "markdown",
   "id": "643cbd17-bdf2-43fa-9c3d-03c352bd9495",
   "metadata": {},
   "source": [
    " AI requires a continuous feed of data to learn and improve decision-making"
   ]
  },
  {
   "cell_type": "markdown",
   "id": "4d022a8d-6167-40c9-b6fa-cec5663c679c",
   "metadata": {},
   "source": [
    "## Q5: What are the main difference between supervised,unsupervised, and semi-supervised learning?"
   ]
  },
  {
   "cell_type": "markdown",
   "id": "2e38061a-7400-4cf7-b433-12bdfc529842",
   "metadata": {},
   "source": [
    "Main difference between these three types of machine learning techniques is the type of data they are trained on, and the goals they aim to achieve. Supervised learning is used to predict specific outcomes, unsupervised learning is used to identify patterns and relationships in data, and semi-supervised learning is used to leverage both labeled and unlabeled data for improved performance"
   ]
  },
  {
   "cell_type": "markdown",
   "id": "97124b0a-a873-43fb-9cbe-7810ab723da5",
   "metadata": {},
   "source": [
    "## Q6: What is train,test and validaton split? Explain the importance of each term."
   ]
  },
  {
   "cell_type": "markdown",
   "id": "dcf648e7-a67e-451d-8e4c-72d82b8822d6",
   "metadata": {},
   "source": [
    "Train/test/validation split is a process of dividing a dataset into three subsets: training set, test set, and validation set. The training set is used to train the model, the validation set is used to tune the model's hyperparameters, and the test set is used to evaluate the model's performance on new, unseen data. "
   ]
  },
  {
   "cell_type": "markdown",
   "id": "2e021509-235c-4acf-bb5f-c1d339644913",
   "metadata": {},
   "source": [
    "The importance of each subset is that it allows for the proper evaluation of the model's performance and the optimization of its hyperparameters, leading to a model that generalizes well and makes accurate predictions on new data."
   ]
  },
  {
   "cell_type": "markdown",
   "id": "0ea0b0cf-4a3e-40d6-a59d-e1fe8e2a04dd",
   "metadata": {},
   "source": [
    "## Q7: How can unsupervised learning be used in anomaly detection?"
   ]
  },
  {
   "cell_type": "markdown",
   "id": "c75174a1-36a2-4ce2-be7f-45e5279fa0c2",
   "metadata": {},
   "source": [
    "Anomaly detection techniques of unsupervised nature assume that normal data points occur considerably more frequently than anomalous data points. This assumption is used to classify data points that occur less frequently as anomalies. Unsupervised techniques assign each data point a score instead of a label."
   ]
  },
  {
   "cell_type": "markdown",
   "id": "6e7f94c4-b99a-4470-ba55-38c990a3e37a",
   "metadata": {},
   "source": [
    "## Q8: List down some commonly used supervised learning algoridhms and unsupervised learning algorithms."
   ]
  },
  {
   "cell_type": "markdown",
   "id": "aab8a15a-ce30-44c2-80ad-203b48e4905d",
   "metadata": {},
   "source": [
    "Here are some commonly used supervised learning algorithms:\n",
    "1. Linear regression\n",
    "2. Logistic regression\n",
    "3. Decision trees\n",
    "4. Random forests\n",
    "5. Naive Bayes\n",
    "6. K-nearest neighbors (KNN)\n",
    "7. Support vector machines (SVM)\n",
    "8. Neural networks"
   ]
  },
  {
   "cell_type": "markdown",
   "id": "6ea41831-3abd-48da-8e06-4c6964498a3d",
   "metadata": {},
   "source": [
    "And here are some commonly used unsupervised learning algorithms:\n",
    "\n",
    "1. K-means clustering\n",
    "2. Hierarchical clustering\n",
    "3. DBSCAN (density-based spatial clustering of applications with noise)\n",
    "4. Gaussian mixture models (GMM)\n",
    "5. Principal component analysis (PCA)\n",
    "6. Autoencoders\n",
    "7. t-SNE (t-distributed stochastic neighbor embedding)\n",
    "8. Apriori algorithm for association rule mining."
   ]
  },
  {
   "cell_type": "code",
   "execution_count": null,
   "id": "d6c23d4d-c522-4bdf-853c-e18ba3d0fd99",
   "metadata": {},
   "outputs": [],
   "source": []
  }
 ],
 "metadata": {
  "kernelspec": {
   "display_name": "Python 3 (ipykernel)",
   "language": "python",
   "name": "python3"
  },
  "language_info": {
   "codemirror_mode": {
    "name": "ipython",
    "version": 3
   },
   "file_extension": ".py",
   "mimetype": "text/x-python",
   "name": "python",
   "nbconvert_exporter": "python",
   "pygments_lexer": "ipython3",
   "version": "3.10.8"
  }
 },
 "nbformat": 4,
 "nbformat_minor": 5
}
